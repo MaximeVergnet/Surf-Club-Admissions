{
 "cells": [
  {
   "cell_type": "code",
   "execution_count": 20,
   "id": "4be4e86d",
   "metadata": {},
   "outputs": [],
   "source": [
    "import pandas as pd\n",
    "VTH = pd.read_csv('VenmoStatement_September_2025 (2).csv', header=2)\n",
    "FOS = pd.read_csv('2025-2026 Registry and Budget - VenmoCodeF (9).csv')\n"
   ]
  },
  {
   "cell_type": "code",
   "execution_count": 21,
   "id": "6a86666c",
   "metadata": {},
   "outputs": [
    {
     "name": "stdout",
     "output_type": "stream",
     "text": [
      "                  Name            UCSD Email     money\n",
      "0      Helena Mulville    Hmulville@ucsd.edu  + $35.00\n",
      "1            Rush Shah       rus010@ucsd.edu  + $35.00\n",
      "2          Macy McLeod     m1mcleod@ucsd.edu  + $35.00\n",
      "3            Evan Tang       eztang@ucsd.edu  + $35.00\n",
      "4             Jin Hagh        nhagh@ucsd.edu  + $35.00\n",
      "..                 ...                   ...       ...\n",
      "98       Thomas Brandt      tbrandt@ucsd.edu  + $35.00\n",
      "99        Sahej Tiwana      stiwana@ucsd.edu  + $35.00\n",
      "100     Emma Kurniawan   ekurniawan@ucsd.edu  + $35.00\n",
      "101        Leo Hurwitz    lahurwitz@ucsd.edu  + $35.00\n",
      "102  Delaney Johansson  dvjohansson@ucsd.edu  + $35.00\n",
      "\n",
      "[103 rows x 3 columns]\n",
      "0         Yes\n",
      "1         Yes\n",
      "2         Yes\n",
      "3         Yes\n",
      "4         Yes\n",
      "        ...  \n",
      "190    Select\n",
      "191    Select\n",
      "192    Select\n",
      "193    Select\n",
      "194    Select\n",
      "Name: Paid?, Length: 195, dtype: object\n"
     ]
    }
   ],
   "source": [
    "filtered = VTH.iloc[1:]\n",
    "paidNames = pd.DataFrame(columns=['Name', 'UCSD Email', \"money\"])\n",
    "\n",
    "for index, sheetsEntry in FOS.iterrows():\n",
    "    if sheetsEntry['UCSD Email'] is not None and not pd.isnull(sheetsEntry['UCSD Email']):\n",
    "        if sheetsEntry['Paid?'] == 'Select' or sheetsEntry['Paid?'] == 'No':\n",
    "            #Code to process non paid members\n",
    "            for i, venmoEntry in filtered.iterrows():\n",
    "                if pd.notnull(venmoEntry['Note']) and (sheetsEntry['UCSD Email'].lower() in venmoEntry['Note'].lower()) and ('@' in sheetsEntry['UCSD Email']) and (venmoEntry['Amount (total)'] == '+ $35.00'):\n",
    "                    sheetsEntry['Paid?'] = 'Yes'\n",
    "                    paidNames.loc[len(paidNames)] = [sheetsEntry['Name'], sheetsEntry['UCSD Email'], venmoEntry['Amount (total)']]\n",
    "                    filtered = filtered.drop(i)  # Remove matched row (NOT TESTED)\n",
    "                    break\n",
    "        else: \n",
    "            #Add members who already paid to output\n",
    "            paidNames.loc[len(paidNames)] = [sheetsEntry['Name'], sheetsEntry['UCSD Email'], '35']\n",
    "print(paidNames)\n",
    "FOS.to_csv('output.csv', index=False)\n",
    "\n",
    "onlyBool = FOS['Paid?']\n",
    "print(onlyBool)\n",
    "onlyBool.to_csv('outputYesNo.csv', index = False)"
   ]
  },
  {
   "cell_type": "code",
   "execution_count": null,
   "id": "60351bf0",
   "metadata": {},
   "outputs": [],
   "source": []
  },
  {
   "cell_type": "code",
   "execution_count": null,
   "id": "63cc3c6e",
   "metadata": {},
   "outputs": [],
   "source": []
  }
 ],
 "metadata": {
  "kernelspec": {
   "display_name": "Python 3",
   "language": "python",
   "name": "python3"
  },
  "language_info": {
   "codemirror_mode": {
    "name": "ipython",
    "version": 3
   },
   "file_extension": ".py",
   "mimetype": "text/x-python",
   "name": "python",
   "nbconvert_exporter": "python",
   "pygments_lexer": "ipython3",
   "version": "3.11.9"
  }
 },
 "nbformat": 4,
 "nbformat_minor": 5
}
