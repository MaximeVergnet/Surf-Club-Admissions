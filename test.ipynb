{
 "cells": [
  {
   "cell_type": "code",
   "execution_count": 9,
   "id": "4be4e86d",
   "metadata": {},
   "outputs": [],
   "source": [
    "import pandas as pd\n",
    "VTH = pd.read_csv('VenmoStatement_Sep_2025.csv', header=2)\n",
    "FOS = pd.read_csv('2025-2026 Registry and Budget - VenmoCodeF (5).csv')\n"
   ]
  },
  {
   "cell_type": "code",
   "execution_count": 21,
   "id": "6a86666c",
   "metadata": {},
   "outputs": [],
   "source": [
    "filtered = VTH.iloc[1:]\n",
    "paidNames = pd.DataFrame(columns=['Name', 'UCSD Email', \"money\"])\n",
    "\n",
    "for index, sheetsEntry in FOS.iterrows():\n",
    "    if sheetsEntry['UCSD Email'] is not None and not pd.isnull(sheetsEntry['UCSD Email']):\n",
    "        if sheetsEntry['Paid?'] == 'Select' or sheetsEntry['Paid?'] == 'No':\n",
    "            #Code to process non paid members\n",
    "            for i, venmoEntry in filtered.iterrows():\n",
    "                if pd.notnull(venmoEntry['Note']) and (sheetsEntry['UCSD Email'].lower() in venmoEntry['Note'].lower()) and ('@' in sheetsEntry['UCSD Email']) and (venmoEntry['Amount (total)'] == '+ $35.00'):\n",
    "                    sheetsEntry['Paid?'] = 'Yes'\n",
    "                    paidNames.loc[len(paidNames)] = [sheetsEntry['Name'], sheetsEntry['UCSD Email'], venmoEntry['Amount (total)']]\n",
    "                    filtered = filtered.drop(i)  # Remove matched row (NOT TESTED)\n",
    "                    break\n",
    "        else: \n",
    "            #Add members who already paid to output\n",
    "            paidNames.loc[len(paidNames)] = [sheetsEntry['Name'], sheetsEntry['UCSD Email'], '35']\n",
    "\n",
    "FOS.to_csv('output.csv', index=False)\n",
    "onlyBool = FOS['Paid?']\n",
    "onlyBool.to_csv('outputYesNo.csv', index = False)\n",
    "\n",
    "#Code to filter out the venmo transactions that were wrong\n",
    "correct = pd.DataFrame(columns=['Name', 'Venmo Caption', \"money\"])\n",
    "wrong = filtered.copy()\n",
    "for index, venmoEntry in wrong.iterrows():\n",
    "    for i, sheetsEntry in FOS.iterrows():\n",
    "        if sheetsEntry['UCSD Email'] is not None and not pd.isnull(sheetsEntry['UCSD Email']):\n",
    "            if pd.notnull(venmoEntry['Note']) and (sheetsEntry['UCSD Email'].lower() in venmoEntry['Note'].lower()) and ('@' in sheetsEntry['UCSD Email']) and (venmoEntry['Amount (total)'] == '+ $35.00'):\n",
    "                correct.loc[len(correct)] = [venmoEntry['From'], venmoEntry['Note'], venmoEntry['Amount (total)']]\n",
    "                wrong = wrong.drop(index)\n",
    "                break\n",
    "\n",
    "correct.to_csv('Venmo_Transac_Correct.csv')     \n",
    "wrong.to_csv('Venmo_Transac_Wrong.csv')"
   ]
  },
  {
   "cell_type": "code",
   "execution_count": 11,
   "id": "60351bf0",
   "metadata": {},
   "outputs": [],
   "source": []
  },
  {
   "cell_type": "code",
   "execution_count": null,
   "id": "63cc3c6e",
   "metadata": {},
   "outputs": [],
   "source": []
  }
 ],
 "metadata": {
  "kernelspec": {
   "display_name": "Python 3",
   "language": "python",
   "name": "python3"
  },
  "language_info": {
   "codemirror_mode": {
    "name": "ipython",
    "version": 3
   },
   "file_extension": ".py",
   "mimetype": "text/x-python",
   "name": "python",
   "nbconvert_exporter": "python",
   "pygments_lexer": "ipython3",
   "version": "3.11.4"
  }
 },
 "nbformat": 4,
 "nbformat_minor": 5
}
